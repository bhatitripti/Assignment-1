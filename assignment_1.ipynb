{
 "cells": [
  {
   "cell_type": "raw",
   "id": "c216b185",
   "metadata": {},
   "source": [
    "1. In the below elements which of them are values or an expression? eg:- values can be integer or string and expressions will be mathematical operators.\n",
    "* = Mathematical Operator\n",
    "'hello'=String Value\n",
    "-87.8= Float value\n",
    "- = Mathematical Operator\n",
    "/ = Mathematical Operator\n",
    "+= Mathematical Operator\n",
    "6 = Integer value\n"
   ]
  },
  {
   "cell_type": "raw",
   "id": "5624cdf1",
   "metadata": {},
   "source": [
    "2. What is the difference between string and variable?\n",
    "\n",
    "* String- String is a value enclosed in single or double quotes.\n",
    "    * Strings are immutable.\n",
    "    * Example-\n",
    "         * \"trip is over now\" \n",
    "    * white space and other special characters can be part of string value.\n",
    "    \n",
    "    \n",
    "* Variable-Variable is the name of memory location which holds the value of different data types such as int, float, string etc.\n",
    "    * Example-\n",
    "         * a=10 # here a is variable holding integer value 10\n",
    "         * a=\"trip\" # here a is variable holding string value.\n",
    "         \n",
    "     * white spaces and other special characters (except _ ) can't be part of variable name.\n",
    "     \n",
    " * In short variable is a container and string is special type of content. \n",
    "         "
   ]
  },
  {
   "cell_type": "markdown",
   "id": "b1b4ebf1",
   "metadata": {},
   "source": [
    "3. Describe three different data types.\n",
    "\n",
    "    Classifiaction of data into categories is called data types.\n",
    "\n",
    "* list- a data type which holds ordered collection of mutable values enclosed in square brackets[].\n",
    "       * Different type of values can be store in a list.\n",
    "       * List index range is 0 to n-1, where n is total number of elements in list\n",
    "       * Example- \n",
    "               a= [ 1, 2.8, 'trip']\n",
    "               \n",
    "* tuple- a data type which holds ordered collection of immutable values enclosed in small brackets().\n",
    "       * Different type of values can be store in a tuple.\n",
    "       * Tuple index range is 0 to n-1, where n is total number of elements in tuple.\n",
    "       * Example-\n",
    "               a= (1, 2.8, \"trip\")\n",
    "       * Tuples are faster than list\n",
    "       \n",
    "* dict- an unordered collection in which values are in pair called \"key-value pair\" enclosed in curly brackets{}.\n",
    "        * value can be retrieved if the key is known.\n",
    "        * useful in storing high volume data.\n",
    "        * values can be of any type.\n",
    "        * Example-\n",
    "                a={\"key1\": \"trip\" , 123: 456}\n",
    "        * dict is mutable.\n"
   ]
  },
  {
   "cell_type": "markdown",
   "id": "24549359",
   "metadata": {},
   "source": [
    "4. What is an expression made up of? What do all expressions do?\n",
    " * Expressions are combination of operators and operands constructed according to the syntax of programming language.\n",
    "    * Operands can be identifiers or/and literals.\n",
    "    * Expressions can also contain method invocations.\n",
    "    * If there is more than one operator in an expression, their precedence decides which operation will be performed first.\n",
    "    \n",
    " * Expressions always evaluate down to a single value.\n",
    "    * Example-\n",
    "               2+2"
   ]
  },
  {
   "cell_type": "markdown",
   "id": "92ed55d1",
   "metadata": {},
   "source": [
    " * An expression is anything that has a value.\n",
    "         * Example-\n",
    "                    * \"Hello\"\n",
    "                    * 3"
   ]
  },
  {
   "cell_type": "markdown",
   "id": "bd3cd1b3",
   "metadata": {},
   "source": [
    "5. This assignment statements, like spam = 10. What is the difference between an expression and a statement?\n",
    "        * Statements represent an action or command such as print statements, assignment statements.\n",
    "            * Example:\n",
    "                        print('hello') \n",
    "                        x = 1\n",
    "        * Expression is a combination of variables, operations and values that produces a result value.\n",
    "            * Example:\n",
    "                        5*5 #which will produce 25\n",
    "                        \n",
    "        * Evaluation of an expression always Produces or returns a result value. Execution of a statement may or may not                   produces or displays a result value, it only does whatever the statement says.\n",
    "                * in other words every expression is statement but converse is not true."
   ]
  },
  {
   "cell_type": "markdown",
   "id": "b5167480",
   "metadata": {},
   "source": [
    "6. After running the following code, what does the variable bacon contain?\n",
    "bacon = 22\n",
    "bacon + 1\n"
   ]
  },
  {
   "cell_type": "code",
   "execution_count": 2,
   "id": "397a52c7",
   "metadata": {},
   "outputs": [
    {
     "name": "stdout",
     "output_type": "stream",
     "text": [
      "value of bacon 22\n"
     ]
    }
   ],
   "source": [
    "bacon=22\n",
    "bacon+1\n",
    "print(\"value of bacon\",bacon)"
   ]
  },
  {
   "cell_type": "raw",
   "id": "f392e4ca",
   "metadata": {},
   "source": [
    "7. What should the values of the following two terms be?\n",
    "'spam' + 'spamspam'\n",
    "'spam' * 3\n",
    "\n"
   ]
  },
  {
   "cell_type": "code",
   "execution_count": 4,
   "id": "20e5128c",
   "metadata": {},
   "outputs": [
    {
     "data": {
      "text/plain": [
       "'spamspamspam'"
      ]
     },
     "execution_count": 4,
     "metadata": {},
     "output_type": "execute_result"
    }
   ],
   "source": [
    "s='spam' + 'spamspam'\n",
    "s"
   ]
  },
  {
   "cell_type": "code",
   "execution_count": 6,
   "id": "d5865391",
   "metadata": {},
   "outputs": [
    {
     "data": {
      "text/plain": [
       "'spamspamspam'"
      ]
     },
     "execution_count": 6,
     "metadata": {},
     "output_type": "execute_result"
    }
   ],
   "source": [
    "s1=\"spam\" * 3\n",
    "s1"
   ]
  },
  {
   "cell_type": "raw",
   "id": "ac50e6d5",
   "metadata": {},
   "source": [
    "8. Why is eggs a valid variable name while 100 is invalid?\n",
    "      A variable name should be composition of alphanumeric character and underscore(_).\n",
    "      It must not contain any other special character.\n",
    "      variable name must not starts from numbers.\n",
    "      And so \"eggs\" is composition of lower case alphabets and it doesn't contain any invalid character, where as 100 starts           from number which is not valid according to naming conventions for python variable."
   ]
  },
  {
   "cell_type": "markdown",
   "id": "c466dffe",
   "metadata": {},
   "source": [
    "9. What three functions can be used to get the integer, floating-point number, or string version of a value?"
   ]
  },
  {
   "cell_type": "code",
   "execution_count": 14,
   "id": "c440ca7b",
   "metadata": {},
   "outputs": [
    {
     "name": "stdout",
     "output_type": "stream",
     "text": [
      "enter the value123\n",
      "this is integer value 123\n",
      "this is float value 123.0\n",
      "this is string format \" 123 \"\n"
     ]
    },
    {
     "data": {
      "text/plain": [
       "'123'"
      ]
     },
     "execution_count": 14,
     "metadata": {},
     "output_type": "execute_result"
    }
   ],
   "source": [
    "v=int(input(\"enter the value\"))\n",
    "print(\"this is integer value\", v)\n",
    "vf=float(v)\n",
    "print(\"this is float value\", vf)\n",
    "vs=str(v)\n",
    "print(\"this is string format\",'\"',vs,'\"')\n",
    "vs"
   ]
  },
  {
   "cell_type": "markdown",
   "id": "5a68dbba",
   "metadata": {},
   "source": [
    "10. Why does this expression cause an error? How can you fix it?\n",
    "'I have eaten ' + 99 + ' burritos.'"
   ]
  },
  {
   "cell_type": "code",
   "execution_count": 17,
   "id": "3d193aa1",
   "metadata": {},
   "outputs": [
    {
     "ename": "TypeError",
     "evalue": "can only concatenate str (not \"int\") to str",
     "output_type": "error",
     "traceback": [
      "\u001b[1;31m---------------------------------------------------------------------------\u001b[0m",
      "\u001b[1;31mTypeError\u001b[0m                                 Traceback (most recent call last)",
      "\u001b[1;32m~\\AppData\\Local\\Temp/ipykernel_22872/497800803.py\u001b[0m in \u001b[0;36m<module>\u001b[1;34m\u001b[0m\n\u001b[1;32m----> 1\u001b[1;33m \u001b[1;34m'I have eaten '\u001b[0m \u001b[1;33m+\u001b[0m\u001b[1;36m99\u001b[0m \u001b[1;33m+\u001b[0m \u001b[1;34m' burritos.'\u001b[0m\u001b[1;33m\u001b[0m\u001b[1;33m\u001b[0m\u001b[0m\n\u001b[0m",
      "\u001b[1;31mTypeError\u001b[0m: can only concatenate str (not \"int\") to str"
     ]
    }
   ],
   "source": [
    "'I have eaten ' +99 + ' burritos.'"
   ]
  },
  {
   "cell_type": "raw",
   "id": "b45c7a5c",
   "metadata": {},
   "source": [
    "We got TypeError as we can't concatenate integer and string values. we can solve this error by following methods:\n",
    "    * replace plus(+) sign with comma(,)"
   ]
  },
  {
   "cell_type": "code",
   "execution_count": 18,
   "id": "e9fda0c4",
   "metadata": {},
   "outputs": [
    {
     "data": {
      "text/plain": [
       "('I have eaten ', 99, ' burritos.')"
      ]
     },
     "execution_count": 18,
     "metadata": {},
     "output_type": "execute_result"
    }
   ],
   "source": [
    "'I have eaten ' ,99 , ' burritos.'"
   ]
  },
  {
   "cell_type": "markdown",
   "id": "e86d04ad",
   "metadata": {},
   "source": [
    "* we can also convert integer value 99 into string by enclosing it in single/ double quotes."
   ]
  },
  {
   "cell_type": "code",
   "execution_count": 21,
   "id": "373dcbb0",
   "metadata": {},
   "outputs": [
    {
     "data": {
      "text/plain": [
       "'I have eaten 99 burritos.'"
      ]
     },
     "execution_count": 21,
     "metadata": {},
     "output_type": "execute_result"
    }
   ],
   "source": [
    "'I have eaten '+ '99 ' + 'burritos.'"
   ]
  },
  {
   "cell_type": "code",
   "execution_count": null,
   "id": "b8ecd893",
   "metadata": {},
   "outputs": [],
   "source": []
  }
 ],
 "metadata": {
  "kernelspec": {
   "display_name": "Python 3 (ipykernel)",
   "language": "python",
   "name": "python3"
  },
  "language_info": {
   "codemirror_mode": {
    "name": "ipython",
    "version": 3
   },
   "file_extension": ".py",
   "mimetype": "text/x-python",
   "name": "python",
   "nbconvert_exporter": "python",
   "pygments_lexer": "ipython3",
   "version": "3.9.7"
  }
 },
 "nbformat": 4,
 "nbformat_minor": 5
}
